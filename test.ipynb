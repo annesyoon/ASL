{
 "cells": [
  {
   "cell_type": "code",
   "execution_count": null,
   "id": "925817ea",
   "metadata": {
    "scrolled": false
   },
   "outputs": [],
   "source": [
    "import cv2 \n",
    "from cvzone.HandTrackingModule import HandDetector\n",
    "from cvzone.ClassificationModule import Classifier\n",
    "from pandas import *\n",
    "import numpy as np\n",
    "import math\n",
    "import time\n",
    "\n",
    "capture = cv2.VideoCapture(0)\n",
    "detect= HandDetector(maxHands=1)\n",
    "classifier = Classifier(\"Model/keras_model.h5\",\"Model/labels.txt\")\n",
    "\n",
    "\n",
    "data = read_csv(\"Model/labels.csv\")\n",
    "labels= data['value'].tolist()\n",
    "offset=20\n",
    "size=300\n",
    "\n",
    "while True:\n",
    "    success, img = capture.read()\n",
    "    final_Output= img.copy()\n",
    "    hands, img = detect.findHands(img)\n",
    "    \n",
    "    if hands:\n",
    "        hands=hands[0]\n",
    "        x,y,w,h=hands['bbox']\n",
    "\n",
    "        cropppedImg= img[y- offset:y + h + offset, x-offset:x + w+offset]\n",
    "        imgWhite= np.ones((size,size,3),np.uint8)*255\n",
    "\n",
    "        cropppedImgShape= cropppedImg.shape\n",
    "\n",
    "\n",
    "        aspectRatio=h/w\n",
    "\n",
    "        if aspectRatio >1 :\n",
    "            k= size/h\n",
    "            wCal= math.ceil(k*w)\n",
    "            imgResize= cv2.resize(cropppedImg,(wCal,size))\n",
    "            imgResizeShape= imgResize.shape\n",
    "            wGap = math.ceil((size - wCal) / 2)\n",
    "            imgWhite[:, wGap:wCal+wGap] = imgResize\n",
    "            prediction,index= classifier.getPrediction(imgWhite,draw=False)\n",
    "            print(prediction,index)\n",
    "\n",
    "        else:\n",
    "            k= size/w\n",
    "            hCal=math.ceil(k*h)\n",
    "            imgResize= cv2.resize(cropppedImg,(size,hCal))\n",
    "            imgResizeShape= imgResize.shape\n",
    "            hGap=math.ceil((size - hCal) / 2)\n",
    "            imgWhite[hGap:hCal+hGap, :] = imgResize\n",
    "            prediction,index= classifier.getPrediction(imgWhite,draw=False)\n",
    "\n",
    "        \n",
    "        cv2.putText(final_Output,labels[index],(x,y-20), cv2.FONT_HERSHEY_DUPLEX,2,(240,248,255),4)\n",
    "        cv2.imshow(\"ImageCrop\",cropppedImg)\n",
    "        cv2.imshow(\"ImageWhite\",imgWhite)\n",
    "    \n",
    "    \n",
    "    cv2.imshow(\"Image\",final_Output)\n",
    "    key = cv2.waitKey(1)\n",
    "\n"
   ]
  },
  {
   "cell_type": "code",
   "execution_count": null,
   "id": "a47460f8",
   "metadata": {},
   "outputs": [],
   "source": []
  }
 ],
 "metadata": {
  "kernelspec": {
   "display_name": "Python 3 (ipykernel)",
   "language": "python",
   "name": "python3"
  },
  "language_info": {
   "codemirror_mode": {
    "name": "ipython",
    "version": 3
   },
   "file_extension": ".py",
   "mimetype": "text/x-python",
   "name": "python",
   "nbconvert_exporter": "python",
   "pygments_lexer": "ipython3",
   "version": "3.9.12"
  },
  "vscode": {
   "interpreter": {
    "hash": "313a5ea5dc794ade59a20c8b7e04099e75eca70b819bb33eac2ea6fe9e20eeef"
   }
  }
 },
 "nbformat": 4,
 "nbformat_minor": 5
}
